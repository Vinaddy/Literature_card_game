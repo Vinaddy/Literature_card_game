{
 "cells": [
  {
   "cell_type": "markdown",
   "metadata": {},
   "source": [
    "### Card generation algorithm for literature"
   ]
  },
  {
   "cell_type": "code",
   "execution_count": 1,
   "metadata": {},
   "outputs": [],
   "source": [
    "import random\n",
    "def literature(player_names):\n",
    "    \"\"\"players names has to be a list\"\"\"\n",
    "    num_players = len(player_names)\n",
    "    if num_players%2 !=0:\n",
    "        return 'You need an even number of players'\n",
    "    \n",
    "    #create your cards\n",
    "    card_houses = ['Spades','Clubs','Diamonds','Hearts']\n",
    "    card_numbers = ['3','4','5','6','7','8','9','10','Jack','King','Queen','Ace']\n",
    "    cards = []\n",
    "    for i in range(len(card_houses)):\n",
    "        for j in range(len(card_numbers)):\n",
    "            cards.append(card_numbers[j]+' '+card_houses[i])\n",
    "    \n",
    "    #shuffle them twice\n",
    "    shuffled_cards = cards#random.sample(cards,len(cards))\n",
    "    random.shuffle(shuffled_cards)\n",
    "    random.shuffle(shuffled_cards)\n",
    "    \n",
    "    #distribute them\n",
    "    split = int(len(cards)/num_players)\n",
    "    num_teams = int(num_players/2)\n",
    "    \n",
    "    for player in player_names:\n",
    "        print('\\n',player)\n",
    "        player_cards = random.sample(set(shuffled_cards),split)\n",
    "        for i in player_cards:\n",
    "            shuffled_cards.remove(i)\n",
    "        print(player_cards)#,len(shuffled_cards))\n",
    "    \n",
    "    #create teams\n",
    "    team1 = random.sample(player_names,num_teams)\n",
    "    team2 = list(set(player_names) - set(team1))\n",
    "    print('\\nTeam members:','\\nTeam1:',team1,'\\nTeam2:',team2,'\\n')\n",
    "    \n",
    "    #Who starts the game?\n",
    "    print((random.sample(player_names,1)[0]),'starts the game')\n",
    "    "
   ]
  },
  {
   "cell_type": "code",
   "execution_count": 3,
   "metadata": {},
   "outputs": [
    {
     "name": "stdout",
     "output_type": "stream",
     "text": [
      "\n",
      " q\n",
      "['4 Clubs', '8 Spades', 'Queen Clubs', '3 Clubs']\n",
      "\n",
      " w\n",
      "['10 Clubs', '7 Spades', '9 Clubs', 'King Clubs']\n",
      "\n",
      " e\n",
      "['4 Hearts', '5 Spades', 'King Diamonds', '8 Hearts']\n",
      "\n",
      " r\n",
      "['King Spades', '3 Diamonds', 'King Hearts', '10 Diamonds']\n",
      "\n",
      " t\n",
      "['9 Diamonds', 'Ace Spades', 'Ace Hearts', 'Queen Hearts']\n",
      "\n",
      " y\n",
      "['5 Diamonds', '9 Spades', '7 Diamonds', 'Jack Spades']\n",
      "\n",
      " u\n",
      "['4 Diamonds', '3 Hearts', '6 Hearts', '8 Clubs']\n",
      "\n",
      " i\n",
      "['7 Hearts', '6 Diamonds', '10 Spades', '7 Clubs']\n",
      "\n",
      " o\n",
      "['Jack Clubs', 'Ace Clubs', '8 Diamonds', '3 Spades']\n",
      "\n",
      " p\n",
      "['Jack Diamonds', 'Queen Diamonds', '9 Hearts', '4 Spades']\n",
      "\n",
      "Team members: \n",
      "Team1: ['y', 'u', 'q', 'w', 'r'] \n",
      "Team2: ['i', 'e', 'o', 't', 'p'] \n",
      "\n",
      "q starts the game\n"
     ]
    }
   ],
   "source": [
    "players = ['q','w','e','r','t','y','u','i','o','p']\n",
    "literature(players)"
   ]
  },
  {
   "cell_type": "code",
   "execution_count": null,
   "metadata": {},
   "outputs": [],
   "source": []
  }
 ],
 "metadata": {
  "kernelspec": {
   "display_name": "Python 3",
   "language": "python",
   "name": "python3"
  },
  "language_info": {
   "codemirror_mode": {
    "name": "ipython",
    "version": 3
   },
   "file_extension": ".py",
   "mimetype": "text/x-python",
   "name": "python",
   "nbconvert_exporter": "python",
   "pygments_lexer": "ipython3",
   "version": "3.7.0"
  }
 },
 "nbformat": 4,
 "nbformat_minor": 4
}
